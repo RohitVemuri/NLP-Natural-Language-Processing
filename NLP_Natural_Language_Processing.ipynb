{
 "cells": [
  {
   "cell_type": "markdown",
   "metadata": {},
   "source": [
    "# Transcript Analysis"
   ]
  },
  {
   "cell_type": "markdown",
   "metadata": {},
   "source": [
    "This cell imports all the libraries needed for this project. **NumPy, nltk, pandas, and PyPDF2** may have to be installed prior to using this program."
   ]
  },
  {
   "cell_type": "code",
   "execution_count": 69,
   "metadata": {},
   "outputs": [],
   "source": [
    "import sys\n",
    "import numpy as np\n",
    "import nltk\n",
    "from tika import parser\n",
    "from nltk.corpus import stopwords"
   ]
  },
  {
   "cell_type": "code",
   "execution_count": 70,
   "metadata": {},
   "outputs": [],
   "source": [
    "chars = set('0123456789$`!@#$%^&*(){}[]|\\\":;?><.,~-©')\n",
    "\n",
    "def extractFiles(link):\n",
    "    with open(link, 'r') as fin:\n",
    "        lines = fin.read().splitlines()\n",
    "    transcript_link = lines[0]\n",
    "    global positive, negative, uncertainty, litigious, modal_strong, modal_weak\n",
    "    positive = open(lines[5], 'r').read().splitlines()\n",
    "    negative = open(lines[4], 'r').read().splitlines()\n",
    "    uncertainty = open(lines[6], 'r').read().splitlines()\n",
    "    litigious = open(lines[1], 'r').read().splitlines()\n",
    "    modal_strong = open(lines[2], 'r').read().splitlines()\n",
    "    modal_weak = open(lines[3], 'r').read().splitlines()\n",
    "    return transcript_link, strengthDictionary"
   ]
  },
  {
   "cell_type": "code",
   "execution_count": 71,
   "metadata": {},
   "outputs": [],
   "source": [
    "def extractText(link):\n",
    "    raw = parser.from_file(link)\n",
    "    text = raw['content']\n",
    "    tokensList = nltk.word_tokenize(text)\n",
    "    #tokensList = [itr.lower for itr in tokensList]\n",
    "    return tokensList"
   ]
  },
  {
   "cell_type": "code",
   "execution_count": 72,
   "metadata": {},
   "outputs": [],
   "source": [
    "def removeSpecialCharacters(tokens):\n",
    "    filteredTokens = []\n",
    "    for s in tokens:\n",
    "        if any((c in chars) for c in s) or s in set(stopwords.words('english')):\n",
    "            pass\n",
    "        else:\n",
    "            filteredTokens.append(s)\n",
    "    return filteredTokens"
   ]
  },
  {
   "cell_type": "code",
   "execution_count": 73,
   "metadata": {},
   "outputs": [],
   "source": [
    "def scanStrengthList(tokens):\n",
    "    #[positive, modal positive, uncertain, m. neg, neg, litigious]\n",
    "    countArray = [0] * 6\n",
    "    uncounted = 0\n",
    "    for token in tokens:\n",
    "        if token.upper() in positive:\n",
    "            countArray[0] += 1\n",
    "        elif token.upper() in modal_strong:\n",
    "            countArray[1] += 1\n",
    "        elif token.upper() in uncertainty:\n",
    "            countArray[2] += 1\n",
    "        elif token.upper() in modal_weak:\n",
    "            countArray[3] += 1\n",
    "        elif token.upper() in negative:\n",
    "            countArray[4] += 1\n",
    "        elif token.upper() in litigious:\n",
    "            countArray[5] += 1\n",
    "        else:\n",
    "            uncounted += 1\n",
    "    return countArray, len(tokens)-uncounted"
   ]
  },
  {
   "cell_type": "code",
   "execution_count": 74,
   "metadata": {},
   "outputs": [],
   "source": [
    "def calculatePoints(countArray, uncounted):\n",
    "    score = (countArray[0]*11)+(countArray[1]*6)-(countArray[2]*1)-(countArray[3]*3)-(countArray[4]*6)-(countArray[5]*9)\n",
    "    if score == 0:\n",
    "        score = 1\n",
    "    finalScore = np.log(np.absolute(score/counted))*100\n",
    "    if score < 0:\n",
    "        finalScore = finalScore * -1\n",
    "    return finalScore"
   ]
  },
  {
   "cell_type": "code",
   "execution_count": null,
   "metadata": {},
   "outputs": [],
   "source": [
    "def createGraph():    \n",
    "    for mutation in tempLines:\n",
    "        plt.figure()\n",
    "\n",
    "        #mutationMatrix = np.ma.array(mutationMatrix, mask=np.isnan(mutationMatrix))\n",
    "\n",
    "        plt.plot(hourPoints, wildTypeZeros, c='g', marker=\"^\", label='wildType', markersize=50)\n",
    "\n",
    "        color = ['b', 'r', 'm', 'y', 'c']\n",
    "        mark = ['s', 'o', 'h', 'D', '8']\n",
    "\n",
    "        x = 0\n",
    "        l=0\n",
    "        while l < vialNumber:\n",
    "            label = 'V'+str(l+1)\n",
    "            x += len(hourPoints)\n",
    "            fit = np.polyfit(hourPoints, mutationMatrix[x-len(hourPoints):x, z], 1)\n",
    "            fit_fn = np.poly1d(fit) \n",
    "            plt.plot(hourPoints, mutationMatrix[x-len(hourPoints):x, z], c=color[l], marker=mark[l], label=label, markersize=30)\n",
    "            plt.plot(hourPoints, mutationMatrix[x-len(hourPoints):x, z], 'yo', hourPoints, fit_fn(hourPoints), c=color[l], linewidth=5)\n",
    "            l += 1\n",
    "\n",
    "    plt.gca().set_ylim([minValue,maxValue])\n",
    "    plt.legend(loc='upper left', prop={'size': 45})\n",
    "\n",
    "    plt.title(mutation, fontsize=40)\n",
    "\n",
    "    plt.xlabel('Hours', fontsize=40)\n",
    "    plt.ylabel('log₂(Relative Frequency)', fontsize=40)\n",
    "\n",
    "    plt.xticks(hourPoints, fontsize=30)\n",
    "    plt.yticks(fontsize=30)\n",
    "\n",
    "    plt.show()\n",
    "    z += 1"
   ]
  },
  {
   "cell_type": "markdown",
   "metadata": {},
   "source": [
    "**Input**: Here, enter the link to the PDF File of the transcript. The variable will be stored in pdfFile."
   ]
  },
  {
   "cell_type": "code",
   "execution_count": 75,
   "metadata": {},
   "outputs": [
    {
     "name": "stdout",
     "output_type": "stream",
     "text": [
      "\n",
      "\n",
      "Final Score:  -58.48 /100 (RATED NEGATIVE)\n",
      "\n",
      "Statistics:\n",
      " \t Positive Words: 387 \n",
      "\t Modal Strong Words: 13 \n",
      " \t Uncertain Words: 632 \n",
      " \t Modal Weak Words: 0 \n",
      " \t Negative Words: 675 \n",
      " \t Litigious Words: 377 \n",
      " \n",
      " Words Analyzed:  2084 \n",
      " Words Ignored:  26347 \n",
      " Words Filtered Out:  28054\n"
     ]
    }
   ],
   "source": [
    "pdfFile = input('Enter PDF File directory: ')\n",
    "\n",
    "transcript_link, strengthDictionary = extractFiles(pdfFile)\n",
    "tokens = extractText(transcript_link)\n",
    "filteredTokens = removeSpecialCharacters(tokens)\n",
    "\n",
    "countArray, counted = scanStrengthList(filteredTokens)\n",
    "\n",
    "finalScore = calculatePoints(countArray, counted)\n",
    "\n",
    "print('\\n')\n",
    "if np.round(finalScore, 0) > 0:\n",
    "    print('Final Score: ', np.round(finalScore, 2), '/100 (RATED POSITIVE)')\n",
    "elif np.round(finalScore, 0) == 0:\n",
    "    print('Final Score: ', np.round(finalScore, 2), '/100 (RATED NEUTRAL)')\n",
    "elif np.round(finalScore, 0) < 0:\n",
    "    print('Final Score: ', np.round(finalScore, 2), '/100 (RATED NEGATIVE)')\n",
    "    \n",
    "print('\\nStatistics:\\n \\t Positive Words:', countArray[0], '\\n\\t Modal Strong Words:', countArray[1],\n",
    "      '\\n \\t Uncertain Words:', countArray[2],'\\n \\t Modal Weak Words:', countArray[3],'\\n \\t Negative Words:', countArray[4],\n",
    "     '\\n \\t Litigious Words:', countArray[5], '\\n \\n Words Analyzed: ', counted, '\\n Words Ignored: ', len(filteredTokens)-counted, \n",
    "    '\\n Words Filtered Out: ', len(tokens)-len(filteredTokens))\n",
    "\n",
    "#/Users/rohitvemuri/Desktop/ProgrammingChallenges/Word_list/Masterfile.txt"
   ]
  }
 ],
 "metadata": {
  "kernelspec": {
   "display_name": "Python 3",
   "language": "python",
   "name": "python3"
  },
  "language_info": {
   "codemirror_mode": {
    "name": "ipython",
    "version": 3
   },
   "file_extension": ".py",
   "mimetype": "text/x-python",
   "name": "python",
   "nbconvert_exporter": "python",
   "pygments_lexer": "ipython3",
   "version": "3.6.3"
  }
 },
 "nbformat": 4,
 "nbformat_minor": 2
}
